{
 "cells": [
  {
   "cell_type": "markdown",
   "metadata": {},
   "source": [
    "# setup"
   ]
  },
  {
   "cell_type": "code",
   "execution_count": 1,
   "metadata": {
    "collapsed": true
   },
   "outputs": [],
   "source": [
    "import numpy as np\n",
    "import networkx as nx\n",
    "import pandas as pd\n",
    "import seaborn as sns\n",
    "import matplotlib.pyplot as plt\n",
    "from matplotlib import rc, rcParams\n",
    "import scipy\n",
    "import warnings\n",
    "import csv\n",
    "from IPython.display import display\n",
    "warnings.filterwarnings('ignore')\n",
    "\n",
    "%matplotlib inline"
   ]
  },
  {
   "cell_type": "code",
   "execution_count": 2,
   "metadata": {
    "collapsed": true
   },
   "outputs": [],
   "source": [
    "%load_ext autoreload\n",
    "%aimport networks\n",
    "from networks import BAGraph\n",
    "%aimport log_bin\n",
    "# helper functions\n",
    "%aimport utils\n",
    "font_size = 20\n",
    "%autoreload 1"
   ]
  },
  {
   "cell_type": "markdown",
   "metadata": {},
   "source": [
    "# Fixed N, varying m ks comparison"
   ]
  },
  {
   "cell_type": "markdown",
   "metadata": {},
   "source": [
    "## numerical data sets"
   ]
  },
  {
   "cell_type": "code",
   "execution_count": 11,
   "metadata": {
    "collapsed": false,
    "scrolled": true
   },
   "outputs": [],
   "source": [
    "N = 10**6\n",
    "M = [1, 2, 4, 8, 16, 32]\n",
    "raw_degrees_all = []\n",
    "for repeat in range(20):\n",
    "    folder = 'data/ba/deg_dist' + str(repeat+1)\n",
    "    data = []\n",
    "    for m in M:\n",
    "        fn = '{0}/{1}_{2}.txt'.format(folder, N, m)\n",
    "        with open(fn, 'r') as f:\n",
    "            reader = csv.reader(f)\n",
    "            data_as_list = list(reader)\n",
    "        x = data_as_list[0]\n",
    "        x = [int(i) for i in x]\n",
    "        data.append(x)\n",
    "#     raw_degrees = np.array(data)\n",
    "    raw_degrees_all.append(data)\n",
    "raw_degrees_all = np.array(raw_degrees_all)"
   ]
  },
  {
   "cell_type": "markdown",
   "metadata": {},
   "source": [
    "## synthetic datasets"
   ]
  },
  {
   "cell_type": "code",
   "execution_count": 7,
   "metadata": {
    "collapsed": false
   },
   "outputs": [],
   "source": [
    "folder = \"data/ba/synthetic\"\n",
    "synthetic = []\n",
    "for m in M:\n",
    "    data = []\n",
    "    for i in range(25):\n",
    "        fn = \"{0}/{1}_{2}_{3}.csv\".format(folder, N, m, i)\n",
    "        with open(fn, 'r') as f:\n",
    "            reader = csv.reader(f)\n",
    "            data_as_list = list(reader)\n",
    "        x = data_as_list[0]\n",
    "        x = [int(i) for i in x[:-1]]\n",
    "        data.append(x)\n",
    "    synthetic.append(data)\n",
    "synthetic_degrees = np.array(synthetic)"
   ]
  },
  {
   "cell_type": "code",
   "execution_count": 26,
   "metadata": {
    "collapsed": false
   },
   "outputs": [
    {
     "name": "stdout",
     "output_type": "stream",
     "text": [
      "0.000414\n",
      "0.000978\n",
      "0.000744\n",
      "0.000662\n",
      "0.001002\n",
      "0.001132\n"
     ]
    }
   ],
   "source": [
    "for i, d in enumerate(raw_degrees_all[0]):\n",
    "    reference = synthetic_degrees[i][0]\n",
    "    ks, raw_p = scipy.stats.ks_2samp(d, reference)\n",
    "    print(ks)"
   ]
  },
  {
   "cell_type": "raw",
   "metadata": {
    "collapsed": true
   },
   "source": [
    "plist_all = []\n",
    "for repeat in range(20):\n",
    "    print(repeat)\n",
    "    raw_degrees = raw_degrees_all[repeat]\n",
    "    plist = []\n",
    "    for i, d in enumerate(raw_degrees):\n",
    "        # define a reference dataset\n",
    "        reference = synthetic_degrees[i][0]\n",
    "        ks, raw_p = scipy.stats.ks_2samp(d, reference)\n",
    "        count = 0\n",
    "        total_counts = len(synthetic[i])\n",
    "\n",
    "        for index in range(len(synthetic[i])):\n",
    "            synthetic_ks, synthetic_raw_p = scipy.stats.ks_2samp(synthetic[i][index], reference)\n",
    "            if synthetic_ks > ks:\n",
    "                count += 1\n",
    "        totalp = count / total_counts\n",
    "        plist.append(totalp)\n",
    "    plist_all.append(plist)"
   ]
  },
  {
   "cell_type": "code",
   "execution_count": 21,
   "metadata": {
    "collapsed": false
   },
   "outputs": [],
   "source": [
    "# pd.DataFrame(temp, columns=M).to_csv('data/ba/ks_test.csv')\n",
    "pd.read_csv('data/ba/ks_test.csv', index_col=0)"
   ]
  },
  {
   "cell_type": "code",
   "execution_count": 24,
   "metadata": {
    "collapsed": false
   },
   "outputs": [],
   "source": [
    "plist_df = pd.read_csv('data/ba/ks_test.csv', index_col=0)"
   ]
  },
  {
   "cell_type": "code",
   "execution_count": 25,
   "metadata": {
    "collapsed": false
   },
   "outputs": [
    {
     "data": {
      "text/plain": [
       "1     0.714\n",
       "2     0.446\n",
       "4     0.502\n",
       "8     0.580\n",
       "16    0.706\n",
       "32    0.456\n",
       "dtype: float64"
      ]
     },
     "execution_count": 25,
     "metadata": {},
     "output_type": "execute_result"
    }
   ],
   "source": [
    "plist_df.mean()"
   ]
  }
 ],
 "metadata": {
  "anaconda-cloud": {},
  "kernelspec": {
   "display_name": "Python [conda env:scientific]",
   "language": "python",
   "name": "conda-env-scientific-py"
  },
  "language_info": {
   "codemirror_mode": {
    "name": "ipython",
    "version": 3
   },
   "file_extension": ".py",
   "mimetype": "text/x-python",
   "name": "python",
   "nbconvert_exporter": "python",
   "pygments_lexer": "ipython3",
   "version": "3.5.2"
  },
  "notify_time": "10",
  "toc": {
   "colors": {
    "hover_highlight": "#DAA520",
    "running_highlight": "#FF0000",
    "selected_highlight": "#FFD700"
   },
   "moveMenuLeft": true,
   "nav_menu": {
    "height": "85px",
    "width": "252px"
   },
   "navigate_menu": true,
   "number_sections": false,
   "sideBar": true,
   "threshold": 4,
   "toc_cell": false,
   "toc_section_display": "block",
   "toc_window_display": true
  }
 },
 "nbformat": 4,
 "nbformat_minor": 2
}
